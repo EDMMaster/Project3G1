{
 "cells": [
  {
   "cell_type": "code",
   "execution_count": 1,
   "id": "528e7329-c67b-433b-8d78-873d94b96b04",
   "metadata": {},
   "outputs": [],
   "source": [
    "import numpy as np \n",
    "import pandas as pd \n",
    "import matplotlib.pyplot as plt\n",
    "import seaborn as sns\n",
    "from nltk.stem.porter import PorterStemmer\n",
    "from nltk.corpus import stopwords \n",
    "import re \n",
    "from sklearn.feature_extraction.text import CountVectorizer\n",
    "from sklearn.decomposition import LatentDirichletAllocation \n",
    "import tensorflow as tf \n",
    "from tensorflow.keras.preprocessing.text import one_hot\n",
    "from tensorflow.keras.preprocessing.sequence import pad_sequences\n",
    "from vaderSentiment.vaderSentiment import SentimentIntensityAnalyzer\n",
    "from sklearn.model_selection import train_test_split \n",
    "from tensorflow.keras.layers import Embedding, LSTM, Dense, Dropout, Bidirectional\n",
    "from tensorflow.keras.models import Sequential\n",
    "from sklearn.metrics import confusion_matrix, accuracy_score "
   ]
  },
  {
   "cell_type": "code",
   "execution_count": 2,
   "id": "07466635-7830-4f9c-ae11-9dc06526cf91",
   "metadata": {},
   "outputs": [
    {
     "name": "stderr",
     "output_type": "stream",
     "text": [
      "[nltk_data] Downloading package stopwords to\n",
      "[nltk_data]     C:\\Users\\LabUser\\AppData\\Roaming\\nltk_data...\n",
      "[nltk_data]   Package stopwords is already up-to-date!\n"
     ]
    },
    {
     "data": {
      "text/plain": [
       "True"
      ]
     },
     "execution_count": 2,
     "metadata": {},
     "output_type": "execute_result"
    }
   ],
   "source": [
    "import nltk\n",
    "from nltk.corpus import stopwords\n",
    "nltk.download('stopwords')"
   ]
  },
  {
   "cell_type": "code",
   "execution_count": 3,
   "id": "87e18632-9c31-4d3c-9df6-f6968c19538b",
   "metadata": {},
   "outputs": [
    {
     "name": "stdout",
     "output_type": "stream",
     "text": [
      "   Unnamed: 0                                              title  \\\n",
      "0           0  LAW ENFORCEMENT ON HIGH ALERT Following Threat...   \n",
      "1           1                                                NaN   \n",
      "2           2  UNBELIEVABLE! OBAMA’S ATTORNEY GENERAL SAYS MO...   \n",
      "3           3  Bobby Jindal, raised Hindu, uses story of Chri...   \n",
      "4           4  SATAN 2: Russia unvelis an image of its terrif...   \n",
      "\n",
      "                                                text  label  \n",
      "0  No comment is expected from Barack Obama Membe...      1  \n",
      "1     Did they post their votes for Hillary already?      1  \n",
      "2   Now, most of the demonstrators gathered last ...      1  \n",
      "3  A dozen politically active pastors came here f...      0  \n",
      "4  The RS-28 Sarmat missile, dubbed Satan 2, will...      1  \n"
     ]
    }
   ],
   "source": [
    "file_path = \"C:\\\\Users\\\\LabUser\\\\Downloads\\\\archive (2)\\\\WELFake_Dataset.csv\" \n",
    "df = pd.read_csv(file_path)\n",
    "print(df.head())"
   ]
  },
  {
   "cell_type": "code",
   "execution_count": 4,
   "id": "7ab64338-df4d-41be-b75a-369ea7201a6e",
   "metadata": {},
   "outputs": [
    {
     "name": "stdout",
     "output_type": "stream",
     "text": [
      "Unnamed: 0      0\n",
      "title         558\n",
      "text           39\n",
      "label           0\n",
      "dtype: int64\n"
     ]
    }
   ],
   "source": [
    "print(df.isnull().sum())"
   ]
  },
  {
   "cell_type": "code",
   "execution_count": 5,
   "id": "c8a68812-540e-4c2b-b297-28303fb0b3c1",
   "metadata": {},
   "outputs": [
    {
     "name": "stdout",
     "output_type": "stream",
     "text": [
      "Unnamed: 0    0\n",
      "title         0\n",
      "text          0\n",
      "label         0\n",
      "dtype: int64\n"
     ]
    }
   ],
   "source": [
    "df = df.dropna()\n",
    "print(df.isnull().sum())"
   ]
  },
  {
   "cell_type": "code",
   "execution_count": 6,
   "id": "d323b2c5-9a72-4321-afe6-1aec12f1f0c1",
   "metadata": {},
   "outputs": [],
   "source": [
    "df.drop(columns=['Unnamed: 0'],inplace=True)"
   ]
  },
  {
   "cell_type": "code",
   "execution_count": 7,
   "id": "5f7155ad-1d09-43fe-9ac3-dc92a161e13a",
   "metadata": {},
   "outputs": [
    {
     "data": {
      "text/html": [
       "<div>\n",
       "<style scoped>\n",
       "    .dataframe tbody tr th:only-of-type {\n",
       "        vertical-align: middle;\n",
       "    }\n",
       "\n",
       "    .dataframe tbody tr th {\n",
       "        vertical-align: top;\n",
       "    }\n",
       "\n",
       "    .dataframe thead th {\n",
       "        text-align: right;\n",
       "    }\n",
       "</style>\n",
       "<table border=\"1\" class=\"dataframe\">\n",
       "  <thead>\n",
       "    <tr style=\"text-align: right;\">\n",
       "      <th></th>\n",
       "      <th>title</th>\n",
       "      <th>text</th>\n",
       "      <th>label</th>\n",
       "    </tr>\n",
       "  </thead>\n",
       "  <tbody>\n",
       "    <tr>\n",
       "      <th>0</th>\n",
       "      <td>LAW ENFORCEMENT ON HIGH ALERT Following Threat...</td>\n",
       "      <td>No comment is expected from Barack Obama Membe...</td>\n",
       "      <td>1</td>\n",
       "    </tr>\n",
       "    <tr>\n",
       "      <th>2</th>\n",
       "      <td>UNBELIEVABLE! OBAMA’S ATTORNEY GENERAL SAYS MO...</td>\n",
       "      <td>Now, most of the demonstrators gathered last ...</td>\n",
       "      <td>1</td>\n",
       "    </tr>\n",
       "    <tr>\n",
       "      <th>3</th>\n",
       "      <td>Bobby Jindal, raised Hindu, uses story of Chri...</td>\n",
       "      <td>A dozen politically active pastors came here f...</td>\n",
       "      <td>0</td>\n",
       "    </tr>\n",
       "    <tr>\n",
       "      <th>4</th>\n",
       "      <td>SATAN 2: Russia unvelis an image of its terrif...</td>\n",
       "      <td>The RS-28 Sarmat missile, dubbed Satan 2, will...</td>\n",
       "      <td>1</td>\n",
       "    </tr>\n",
       "    <tr>\n",
       "      <th>5</th>\n",
       "      <td>About Time! Christian Group Sues Amazon and SP...</td>\n",
       "      <td>All we can say on this one is it s about time ...</td>\n",
       "      <td>1</td>\n",
       "    </tr>\n",
       "  </tbody>\n",
       "</table>\n",
       "</div>"
      ],
      "text/plain": [
       "                                               title  \\\n",
       "0  LAW ENFORCEMENT ON HIGH ALERT Following Threat...   \n",
       "2  UNBELIEVABLE! OBAMA’S ATTORNEY GENERAL SAYS MO...   \n",
       "3  Bobby Jindal, raised Hindu, uses story of Chri...   \n",
       "4  SATAN 2: Russia unvelis an image of its terrif...   \n",
       "5  About Time! Christian Group Sues Amazon and SP...   \n",
       "\n",
       "                                                text  label  \n",
       "0  No comment is expected from Barack Obama Membe...      1  \n",
       "2   Now, most of the demonstrators gathered last ...      1  \n",
       "3  A dozen politically active pastors came here f...      0  \n",
       "4  The RS-28 Sarmat missile, dubbed Satan 2, will...      1  \n",
       "5  All we can say on this one is it s about time ...      1  "
      ]
     },
     "execution_count": 7,
     "metadata": {},
     "output_type": "execute_result"
    }
   ],
   "source": [
    "df.head()"
   ]
  },
  {
   "cell_type": "code",
   "execution_count": 8,
   "id": "4559a1f4-874e-4b26-adb9-a6c40a92af81",
   "metadata": {},
   "outputs": [],
   "source": [
    "X = df.drop(columns=['label'])\n",
    "y = df['label']"
   ]
  },
  {
   "cell_type": "code",
   "execution_count": 9,
   "id": "aa8f16f7-dccd-496c-bc5d-5448fa89c555",
   "metadata": {},
   "outputs": [
    {
     "data": {
      "text/html": [
       "<div>\n",
       "<style scoped>\n",
       "    .dataframe tbody tr th:only-of-type {\n",
       "        vertical-align: middle;\n",
       "    }\n",
       "\n",
       "    .dataframe tbody tr th {\n",
       "        vertical-align: top;\n",
       "    }\n",
       "\n",
       "    .dataframe thead th {\n",
       "        text-align: right;\n",
       "    }\n",
       "</style>\n",
       "<table border=\"1\" class=\"dataframe\">\n",
       "  <thead>\n",
       "    <tr style=\"text-align: right;\">\n",
       "      <th></th>\n",
       "      <th>title</th>\n",
       "      <th>text</th>\n",
       "    </tr>\n",
       "  </thead>\n",
       "  <tbody>\n",
       "    <tr>\n",
       "      <th>0</th>\n",
       "      <td>LAW ENFORCEMENT ON HIGH ALERT Following Threat...</td>\n",
       "      <td>No comment is expected from Barack Obama Membe...</td>\n",
       "    </tr>\n",
       "    <tr>\n",
       "      <th>2</th>\n",
       "      <td>UNBELIEVABLE! OBAMA’S ATTORNEY GENERAL SAYS MO...</td>\n",
       "      <td>Now, most of the demonstrators gathered last ...</td>\n",
       "    </tr>\n",
       "    <tr>\n",
       "      <th>3</th>\n",
       "      <td>Bobby Jindal, raised Hindu, uses story of Chri...</td>\n",
       "      <td>A dozen politically active pastors came here f...</td>\n",
       "    </tr>\n",
       "    <tr>\n",
       "      <th>4</th>\n",
       "      <td>SATAN 2: Russia unvelis an image of its terrif...</td>\n",
       "      <td>The RS-28 Sarmat missile, dubbed Satan 2, will...</td>\n",
       "    </tr>\n",
       "    <tr>\n",
       "      <th>5</th>\n",
       "      <td>About Time! Christian Group Sues Amazon and SP...</td>\n",
       "      <td>All we can say on this one is it s about time ...</td>\n",
       "    </tr>\n",
       "  </tbody>\n",
       "</table>\n",
       "</div>"
      ],
      "text/plain": [
       "                                               title  \\\n",
       "0  LAW ENFORCEMENT ON HIGH ALERT Following Threat...   \n",
       "2  UNBELIEVABLE! OBAMA’S ATTORNEY GENERAL SAYS MO...   \n",
       "3  Bobby Jindal, raised Hindu, uses story of Chri...   \n",
       "4  SATAN 2: Russia unvelis an image of its terrif...   \n",
       "5  About Time! Christian Group Sues Amazon and SP...   \n",
       "\n",
       "                                                text  \n",
       "0  No comment is expected from Barack Obama Membe...  \n",
       "2   Now, most of the demonstrators gathered last ...  \n",
       "3  A dozen politically active pastors came here f...  \n",
       "4  The RS-28 Sarmat missile, dubbed Satan 2, will...  \n",
       "5  All we can say on this one is it s about time ...  "
      ]
     },
     "execution_count": 9,
     "metadata": {},
     "output_type": "execute_result"
    }
   ],
   "source": [
    "X.head()"
   ]
  },
  {
   "cell_type": "code",
   "execution_count": 10,
   "id": "e7e3563e-7e5c-4ba0-8bbc-34bebe0bee61",
   "metadata": {},
   "outputs": [
    {
     "data": {
      "text/plain": [
       "0    1\n",
       "2    1\n",
       "3    0\n",
       "4    1\n",
       "5    1\n",
       "Name: label, dtype: int64"
      ]
     },
     "execution_count": 10,
     "metadata": {},
     "output_type": "execute_result"
    }
   ],
   "source": [
    "y.head()"
   ]
  },
  {
   "cell_type": "code",
   "execution_count": 11,
   "id": "8ee1cfbb-6dd2-449c-8c0e-36c052851041",
   "metadata": {},
   "outputs": [
    {
     "name": "stdout",
     "output_type": "stream",
     "text": [
      "(71537, 2)\n",
      "(71537,)\n"
     ]
    }
   ],
   "source": [
    "print(X.shape)\n",
    "print(y.shape)"
   ]
  },
  {
   "cell_type": "code",
   "execution_count": 12,
   "id": "f9792dea-813f-4086-af72-a46d5359c717",
   "metadata": {},
   "outputs": [
    {
     "data": {
      "text/plain": [
       "<Axes: ylabel='count'>"
      ]
     },
     "execution_count": 12,
     "metadata": {},
     "output_type": "execute_result"
    },
    {
     "data": {
      "image/png": "[encoded data removed]",
      "text/plain": [
       "<Figure size 640x480 with 1 Axes>"
      ]
     },
     "metadata": {},
     "output_type": "display_data"
    }
   ],
   "source": [
    "# 0 - Fake, 1 - Real\n",
    "df['label'].value_counts().plot.pie(autopct='%.2f')"
   ]
  },
  {
   "cell_type": "code",
   "execution_count": 13,
   "id": "c538cb18-76c4-48e6-8770-65808cc45522",
   "metadata": {},
   "outputs": [
    {
     "data": {
      "image/png": "[encoded data removed]",
      "text/plain": [
       "<Figure size 640x480 with 1 Axes>"
      ]
     },
     "metadata": {},
     "output_type": "display_data"
    }
   ],
   "source": [
    "# Count plot for label distribution\n",
    "sns.countplot(data=df, x='label', hue='label', legend=False, palette=['orange', 'blue'])\n",
    "plt.title('Label Distribution')\n",
    "plt.xlabel('Label')\n",
    "plt.xticks([0, 1], ['Fake', 'Real'])\n",
    "plt.ylabel('Count')\n",
    "plt.show()"
   ]
  },
  {
   "cell_type": "code",
   "execution_count": 14,
   "id": "9675741b-788a-480b-9e10-83d00b01d1ed",
   "metadata": {},
   "outputs": [
    {
     "data": {
      "image/png": "[encoded data removed]",
      "text/plain": [
       "<Figure size 640x480 with 1 Axes>"
      ]
     },
     "metadata": {},
     "output_type": "display_data"
    }
   ],
   "source": [
    "# Count plot for label distribution\n",
    "sns.countplot(data=df, x='label', hue='label', palette=['orange', 'blue'], legend=False)\n",
    "plt.title('Label Distribution')\n",
    "plt.xlabel('Label')\n",
    "plt.xticks([0, 1], ['Fake', 'Real'])\n",
    "plt.ylabel('Count')\n",
    "plt.show()\n"
   ]
  },
  {
   "cell_type": "code",
   "execution_count": 15,
   "id": "4d517a27-10f5-4bce-b2c7-42a473a59160",
   "metadata": {},
   "outputs": [
    {
     "data": {
      "image/png": "[encoded data removed]",
      "text/plain": [
       "<Figure size 640x480 with 1 Axes>"
      ]
     },
     "metadata": {},
     "output_type": "display_data"
    }
   ],
   "source": [
    "# Donut plot for label distribution\n",
    "sizes = df['label'].value_counts()\n",
    "colors = ['blue', 'orange']\n",
    "explode = (0.1, 0)  # explode the first slice\n",
    "\n",
    "plt.pie(sizes, labels=['Real', 'Fake'], autopct='%.2f%%', startangle=90, colors=colors, explode=explode)\n",
    "centre_circle = plt.Circle((0, 0), 0.70, fc='white')\n",
    "fig = plt.gcf()\n",
    "fig.gca().add_artist(centre_circle)\n",
    "plt.title('Label Distribution')\n",
    "plt.show()"
   ]
  },
  {
   "cell_type": "code",
   "execution_count": 16,
   "id": "e5cf08ad-182e-47a0-9fdc-14542d5636db",
   "metadata": {},
   "outputs": [],
   "source": [
    "# Vocab_size = Unique words in our Corpus (entire document)\n",
    "vocab_size = 10000"
   ]
  },
  {
   "cell_type": "code",
   "execution_count": 17,
   "id": "61c164b9-4d98-4184-8a74-51c3ac6cba07",
   "metadata": {},
   "outputs": [
    {
     "name": "stdout",
     "output_type": "stream",
     "text": [
      "UNBELIEVABLE! OBAMA’S ATTORNEY GENERAL SAYS MOST CHARLOTTE RIOTERS WERE “PEACEFUL” PROTESTERS…In Her Home State Of North Carolina [VIDEO]\n"
     ]
    }
   ],
   "source": [
    "messages = X.copy()\n",
    "\n",
    "# Reset the index to avoid errors caused by using dropna() earlier\n",
    "messages.reset_index(inplace=True)\n",
    "print(messages['title'][1])"
   ]
  },
  {
   "cell_type": "code",
   "execution_count": 18,
   "id": "089b03d7-8739-4f2c-8e27-8db4467a45ef",
   "metadata": {},
   "outputs": [
    {
     "name": "stdout",
     "output_type": "stream",
     "text": [
      "(71537, 7799)\n",
      "['law enforc high alert follow threat cop white blacklivesmatt fyf terrorist video', 'unbeliev obama attorney gener say charlott rioter peac protest home state north carolina video', 'bobbi jindal rais hindu use stori christian convers woo evangel potenti bid', 'satan russia unv imag terrifi new supernuk western world take notic', 'time christian group sue amazon splc design hate group', 'dr ben carson target ir never audit spoke nation prayer breakfast', 'hous intel chair trump russia fake stori evid anyth video', 'sport bar owner ban nfl game show true american sport like speak rural america video', 'latest pipelin leak underscor danger dakota access pipelin', 'gop senat smack punchabl alt right nazi internet', 'may brexit offer would hurt cost eu citizen eu parliament', 'schumer call trump appoint offici overse puerto rico relief', 'watch hilari ad call question health age clinton crime famili boss', 'chang expect espn polit agenda despit huge subscrib declin breitbart', 'billionair odebrecht brazil scandal releas hous arrest', 'british woman lose virgin asylum seek rapist way church', 'u n seek humanitarian paus sanaa street battleground', 'major liber rag reluctantli publish articl presid trump outstand accomplish explain success everyon laugh', 'second judg say clinton email setup may bad faith', 'america give grand piano hors', 'hillari crime famili end day u', 'sean spicer baffl report claim trump respons hire flynn video', 'unholi allianc hillari clinton saudi sponsor support terror islamist extrem', 'even trump best friend joe scarborough handl disqualifi kkk support video', 'boom danish govern consid seiz migrant valuabl pay benefit', 'suprem court hear appeal texa voter id case new york time', 'islam state driven last stronghold northern iraq', 'senat propos give state option keep afford care act new york time', 'belong extraterrestri lineag', 'zimbabw mugab appear public first time sinc coup']\n",
      "Maximum sentence length: 47\n",
      "[[3137, 4546, 3872, 3326, 5771, 447, 9369, 3929, 5371, 7089, 8694, 3434], [2745, 2056, 3266, 9857, 9935, 9527, 206, 7336, 2636, 172, 1796, 348, 7880, 3434], [9320, 421, 8088, 7623, 3249, 4141, 6597, 3679, 6176, 9679, 4798, 503], [5446, 2812, 2508, 4771, 318, 2956, 4683, 1429, 7724, 2870, 7971], [4031, 6597, 7975, 4662, 7748, 7743, 1834, 1323, 7975]]\n",
      "[[   0    0    0 ... 7089 8694 3434]\n",
      " [   0    0    0 ...  348 7880 3434]\n",
      " [   0    0    0 ... 9679 4798  503]\n",
      " ...\n",
      " [   0    0    0 ... 7227 8837 7452]\n",
      " [   0    0    0 ... 2853 6813  989]\n",
      " [   0    0    0 ... 8694 7195 4197]]\n"
     ]
    }
   ],
   "source": [
    "### Text Preprocessing ###\n",
    "ps = PorterStemmer()\n",
    "stop_words = set(stopwords.words('english'))\n",
    "\n",
    "corpus = []\n",
    "for i in range(0, len(messages)):\n",
    "    review = re.sub('[^a-zA-Z]', ' ', messages['title'][i])\n",
    "    review = review.lower()\n",
    "    review = review.split()\n",
    "    review = [ps.stem(word) for word in review if not word in stopwords.words('english')]\n",
    "    review = ' '.join(review)\n",
    "    corpus.append(review)\n",
    "\n",
    "# Create an instance of the CountVectorizer\n",
    "cv = CountVectorizer(max_df=0.95, min_df=5, stop_words='english')\n",
    "dtm = cv.fit_transform(corpus)\n",
    "print(dtm.shape)\n",
    "\n",
    "\n",
    "# Inspect the corpus\n",
    "print(corpus[:30])\n",
    "\n",
    "# Calculate the maximum sentence length\n",
    "max_length = max(len(sentence.split()) for sentence in corpus)\n",
    "print(\"Maximum sentence length:\", max_length)\n",
    "\n",
    "# Convert Text to One Hot Representation and Add Padding\n",
    "onehot_repr = [one_hot(words, vocab_size) for words in corpus]\n",
    "print(onehot_repr[:5])\n",
    "\n",
    "sentence_length = 50\n",
    "embedded_docs = pad_sequences(onehot_repr, padding='pre', maxlen=sentence_length)\n",
    "print(embedded_docs)"
   ]
  },
  {
   "cell_type": "code",
   "execution_count": 19,
   "id": "ee31bbff-79f8-4d6e-a2a6-f7a76582ad9e",
   "metadata": {},
   "outputs": [
    {
     "name": "stdout",
     "output_type": "stream",
     "text": [
      "The Top 15 Words For Topic #1\n",
      "['border', 'mexico', 'death', 'school', 'comey', 'wall', 'muslim', 'charg', 'polic', 'investig', 'student', 'old', 'video', 'year', 'fbi']\n",
      "\n",
      "\n",
      "The Top 15 Words For Topic #2\n",
      "['air', 'strike', 'congress', 'isi', 'china', 'fund', 'forc', 'chang', 'nation', 'islam', 'syria', 'secur', 'attack', 'kill', 'state']\n",
      "\n",
      "\n",
      "The Top 15 Words For Topic #3\n",
      "['gop', 'elect', 'presidenti', 'candid', 'plan', 'run', 'say', 'hous', 'parti', 'vote', 'tax', 'democrat', 'senat', 'republican', 'trump']\n",
      "\n",
      "\n",
      "The Top 15 Words For Topic #4\n",
      "['wikileak', 'berni', 'break', 'vote', 'elect', 'sander', 'poll', 'voter', 'email', 'support', 'campaign', 'video', 'trump', 'clinton', 'hillari']\n",
      "\n",
      "\n",
      "The Top 15 Words For Topic #5\n",
      "['race', 'review', 'year', 'say', 'friday', 'book', 'navi', 'long', 'brief', 'die', 'donald', 'trump', 'york', 'time', 'new']\n",
      "\n",
      "\n",
      "The Top 15 Words For Topic #6\n",
      "['obama', 'offic', 'speech', 'watch', 'cop', 'peopl', 'illeg', 'live', 'american', 'protest', 'media', 'anti', 'black', 'trump', 'video']\n",
      "\n",
      "\n",
      "The Top 15 Words For Topic #7\n",
      "['aid', 'report', 'rule', 'suprem', 'chief', 'judg', 'obama', 'order', 'hous', 'law', 'say', 'russian', 'court', 'russia', 'trump']\n",
      "\n",
      "\n",
      "The Top 15 Words For Topic #8\n",
      "['foreign', 'uk', 'turkey', 'pm', 'iran', 'brexit', 'deal', 'minist', 'refuge', 'govern', 'eu', 'ban', 'leader', 'talk', 'say']\n",
      "\n",
      "\n",
      "The Top 15 Words For Topic #9\n",
      "['twitter', 'cruz', 'breitbart', 'fox', 'gun', 'fake', 'cnn', 'gop', 'right', 'america', 'watch', 'tweet', 'news', 'video', 'trump']\n",
      "\n",
      "\n",
      "The Top 15 Words For Topic #10\n",
      "['fight', 'breitbart', 'china', 'donald', 'war', 'say', 'world', 'korea', 'video', 'hous', 'north', 'white', 'obama', 'presid', 'trump']\n",
      "\n",
      "\n",
      "                                                title  \\\n",
      "0   LAW ENFORCEMENT ON HIGH ALERT Following Threat...   \n",
      "2   UNBELIEVABLE! OBAMA’S ATTORNEY GENERAL SAYS MO...   \n",
      "3   Bobby Jindal, raised Hindu, uses story of Chri...   \n",
      "4   SATAN 2: Russia unvelis an image of its terrif...   \n",
      "5   About Time! Christian Group Sues Amazon and SP...   \n",
      "6   DR BEN CARSON TARGETED BY THE IRS: “I never ha...   \n",
      "7   HOUSE INTEL CHAIR On Trump-Russia Fake Story: ...   \n",
      "8   Sports Bar Owner Bans NFL Games…Will Show Only...   \n",
      "9   Latest Pipeline Leak Underscores Dangers Of Da...   \n",
      "10   GOP Senator Just Smacked Down The Most Puncha...   \n",
      "11  May Brexit offer would hurt, cost EU citizens ...   \n",
      "12  Schumer calls on Trump to appoint official to ...   \n",
      "13  WATCH: HILARIOUS AD Calls Into Question Health...   \n",
      "14  No Change Expected for ESPN Political Agenda D...   \n",
      "15  Billionaire Odebrecht in Brazil scandal releas...   \n",
      "16  BRITISH WOMAN LOSES VIRGINITY To Asylum Seekin...   \n",
      "17  U.N. seeks humanitarian pause in Sanaa where s...   \n",
      "18  MAJOR LIBERAL RAG RELUCTANTLY PUBLISHES Articl...   \n",
      "19  Second judge says Clinton email setup may have...   \n",
      "20                 America gives Grand Piano to horse   \n",
      "\n",
      "                                                 text  label  topic  \\\n",
      "0   No comment is expected from Barack Obama Membe...      1      6   \n",
      "2    Now, most of the demonstrators gathered last ...      1     10   \n",
      "3   A dozen politically active pastors came here f...      0      9   \n",
      "4   The RS-28 Sarmat missile, dubbed Satan 2, will...      1      5   \n",
      "5   All we can say on this one is it s about time ...      1      6   \n",
      "6   DR. BEN CARSON TELLS THE STORY OF WHAT HAPPENE...      1      9   \n",
      "7                                                          1      7   \n",
      "8   The owner of the Ringling Bar, located south o...      1     10   \n",
      "9   FILE – In this Sept. 15, 2005 file photo, the ...      1      4   \n",
      "10  The most punchable Alt-Right Nazi on the inter...      1      9   \n",
      "11  BRUSSELS (Reuters) - British Prime Minister Th...      0      8   \n",
      "12  WASHINGTON (Reuters) - Charles Schumer, the to...      0      3   \n",
      "13  After watching this telling video, you ll wond...      1      4   \n",
      "14  As more and more sports fans turn off ESPN to ...      0      3   \n",
      "15  RIO DE JANEIRO/SAO PAULO (Reuters) - Billionai...      0      1   \n",
      "16  Europe is likely not going to be a top destina...      1      4   \n",
      "17  GENEVA (Reuters) - The United Nations called o...      0      1   \n",
      "18  The Atlantic, a publication that wouldn t know...      1      9   \n",
      "19  NEW YORK (Reuters) - A second federal judge ha...      0      4   \n",
      "20  Wednesday 9 November 2016 by Lucas Wilde Ameri...      1      9   \n",
      "\n",
      "      topic_label  \n",
      "0             NaN  \n",
      "2             NaN  \n",
      "3             NaN  \n",
      "4      Technology  \n",
      "5             NaN  \n",
      "6             NaN  \n",
      "7             NaN  \n",
      "8             NaN  \n",
      "9        Politics  \n",
      "10            NaN  \n",
      "11            NaN  \n",
      "12       Business  \n",
      "13       Politics  \n",
      "14       Business  \n",
      "15  Entertainment  \n",
      "16       Politics  \n",
      "17  Entertainment  \n",
      "18            NaN  \n",
      "19       Politics  \n",
      "20            NaN  \n"
     ]
    }
   ],
   "source": [
    "### LDA Integration ###\n",
    "count_vectorizer = CountVectorizer(max_features=1000, stop_words='english')\n",
    "dtm = count_vectorizer.fit_transform(corpus)\n",
    "\n",
    "lda = LatentDirichletAllocation(n_components=10, random_state=42)\n",
    "lda.fit(dtm)\n",
    "\n",
    "# Print the top 15 words for each topic\n",
    "for index, topic in enumerate(lda.components_):  \n",
    "    print(f'The Top 15 Words For Topic #{index + 1}') \n",
    "    print([count_vectorizer.get_feature_names_out()[i] for i in topic.argsort()[-15:]])  \n",
    "    print('\\n')\n",
    "    \n",
    "# Transform our DTM \n",
    "topic_results = lda.transform(dtm)\n",
    "\n",
    "# Adding Topic Labels\n",
    "topic_labels = { \n",
    "    1: 'Entertainment', \n",
    "    2: 'Sports', \n",
    "    3: 'Business',\n",
    "    4: 'Politics', \n",
    "    5: 'Technology' \n",
    "}\n",
    "\n",
    "def add_topic_labels(df, topic_results, topic_labels):\n",
    "    df['topic'] = topic_results.argmax(axis=1) + 1\n",
    "    df['topic_label'] = df['topic'].map(topic_labels)\n",
    "    \n",
    "add_topic_labels(df, topic_results, topic_labels)\n",
    "\n",
    "# Display the first 20 rows of the updated DataFrame \n",
    "print(df.head(20))\n"
   ]
  },
  {
   "cell_type": "code",
   "execution_count": 20,
   "id": "659d79d9-8266-443b-885f-cf9372960530",
   "metadata": {},
   "outputs": [],
   "source": [
    "### VADER Sentiment Analysis ###\n",
    "analyzer = SentimentIntensityAnalyzer()\n",
    "sentiments = [analyzer.polarity_scores(title)['compound'] for title in corpus]\n",
    "\n",
    "X_sentiment = np.array(sentiments).reshape(-1, 1)\n",
    "X_final_with_topics = np.concatenate((embedded_docs, topic_results), axis=1)\n",
    "X_final_with_sentiment = np.concatenate((X_final_with_topics, X_sentiment), axis=1)\n",
    "\n",
    "# Convert to numpy arrays\n",
    "X_final = np.array(X_final_with_sentiment)\n",
    "y_final = np.array(y)\n",
    "\n",
    "# Train-test split\n",
    "from sklearn.model_selection import train_test_split\n",
    "X_train, X_test, y_train, y_test = train_test_split(X_final, y_final, test_size=0.2, random_state=42)"
   ]
  },
  {
   "cell_type": "code",
   "execution_count": 21,
   "id": "a37e527e-4985-4dc4-85f0-450f1666b207",
   "metadata": {},
   "outputs": [
    {
     "data": {
      "text/html": [
       "<pre style=\"white-space:pre;overflow-x:auto;line-height:normal;font-family:Menlo,'DejaVu Sans Mono',consolas,'Courier New',monospace\"><span style=\"font-weight: bold\">Model: \"sequential\"</span>\n",
       "</pre>\n"
      ],
      "text/plain": [
       "\u001b[1mModel: \"sequential\"\u001b[0m\n"
      ]
     },
     "metadata": {},
     "output_type": "display_data"
    },
    {
     "data": {
      "text/html": [
       "<pre style=\"white-space:pre;overflow-x:auto;line-height:normal;font-family:Menlo,'DejaVu Sans Mono',consolas,'Courier New',monospace\">┏━━━━━━━━━━━━━━━━━━━━━━━━━━━━━━━━━━━━━━┳━━━━━━━━━━━━━━━━━━━━━━━━━━━━━┳━━━━━━━━━━━━━━━━━┓\n",
       "┃<span style=\"font-weight: bold\"> Layer (type)                         </span>┃<span style=\"font-weight: bold\"> Output Shape                </span>┃<span style=\"font-weight: bold\">         Param # </span>┃\n",
       "┡━━━━━━━━━━━━━━━━━━━━━━━━━━━━━━━━━━━━━━╇━━━━━━━━━━━━━━━━━━━━━━━━━━━━━╇━━━━━━━━━━━━━━━━━┩\n",
       "│ embedding (<span style=\"color: #0087ff; text-decoration-color: #0087ff\">Embedding</span>)                │ ?                           │     <span style=\"color: #00af00; text-decoration-color: #00af00\">0</span> (unbuilt) │\n",
       "├──────────────────────────────────────┼─────────────────────────────┼─────────────────┤\n",
       "│ lstm (<span style=\"color: #0087ff; text-decoration-color: #0087ff\">LSTM</span>)                          │ ?                           │     <span style=\"color: #00af00; text-decoration-color: #00af00\">0</span> (unbuilt) │\n",
       "├──────────────────────────────────────┼─────────────────────────────┼─────────────────┤\n",
       "│ dropout (<span style=\"color: #0087ff; text-decoration-color: #0087ff\">Dropout</span>)                    │ ?                           │     <span style=\"color: #00af00; text-decoration-color: #00af00\">0</span> (unbuilt) │\n",
       "├──────────────────────────────────────┼─────────────────────────────┼─────────────────┤\n",
       "│ dense (<span style=\"color: #0087ff; text-decoration-color: #0087ff\">Dense</span>)                        │ ?                           │     <span style=\"color: #00af00; text-decoration-color: #00af00\">0</span> (unbuilt) │\n",
       "└──────────────────────────────────────┴─────────────────────────────┴─────────────────┘\n",
       "</pre>\n"
      ],
      "text/plain": [
       "┏━━━━━━━━━━━━━━━━━━━━━━━━━━━━━━━━━━━━━━┳━━━━━━━━━━━━━━━━━━━━━━━━━━━━━┳━━━━━━━━━━━━━━━━━┓\n",
       "┃\u001b[1m \u001b[0m\u001b[1mLayer (type)                        \u001b[0m\u001b[1m \u001b[0m┃\u001b[1m \u001b[0m\u001b[1mOutput Shape               \u001b[0m\u001b[1m \u001b[0m┃\u001b[1m \u001b[0m\u001b[1m        Param #\u001b[0m\u001b[1m \u001b[0m┃\n",
       "┡━━━━━━━━━━━━━━━━━━━━━━━━━━━━━━━━━━━━━━╇━━━━━━━━━━━━━━━━━━━━━━━━━━━━━╇━━━━━━━━━━━━━━━━━┩\n",
       "│ embedding (\u001b[38;5;33mEmbedding\u001b[0m)                │ ?                           │     \u001b[38;5;34m0\u001b[0m (unbuilt) │\n",
       "├──────────────────────────────────────┼─────────────────────────────┼─────────────────┤\n",
       "│ lstm (\u001b[38;5;33mLSTM\u001b[0m)                          │ ?                           │     \u001b[38;5;34m0\u001b[0m (unbuilt) │\n",
       "├──────────────────────────────────────┼─────────────────────────────┼─────────────────┤\n",
       "│ dropout (\u001b[38;5;33mDropout\u001b[0m)                    │ ?                           │     \u001b[38;5;34m0\u001b[0m (unbuilt) │\n",
       "├──────────────────────────────────────┼─────────────────────────────┼─────────────────┤\n",
       "│ dense (\u001b[38;5;33mDense\u001b[0m)                        │ ?                           │     \u001b[38;5;34m0\u001b[0m (unbuilt) │\n",
       "└──────────────────────────────────────┴─────────────────────────────┴─────────────────┘\n"
      ]
     },
     "metadata": {},
     "output_type": "display_data"
    },
    {
     "data": {
      "text/html": [
       "<pre style=\"white-space:pre;overflow-x:auto;line-height:normal;font-family:Menlo,'DejaVu Sans Mono',consolas,'Courier New',monospace\"><span style=\"font-weight: bold\"> Total params: </span><span style=\"color: #00af00; text-decoration-color: #00af00\">0</span> (0.00 B)\n",
       "</pre>\n"
      ],
      "text/plain": [
       "\u001b[1m Total params: \u001b[0m\u001b[38;5;34m0\u001b[0m (0.00 B)\n"
      ]
     },
     "metadata": {},
     "output_type": "display_data"
    },
    {
     "data": {
      "text/html": [
       "<pre style=\"white-space:pre;overflow-x:auto;line-height:normal;font-family:Menlo,'DejaVu Sans Mono',consolas,'Courier New',monospace\"><span style=\"font-weight: bold\"> Trainable params: </span><span style=\"color: #00af00; text-decoration-color: #00af00\">0</span> (0.00 B)\n",
       "</pre>\n"
      ],
      "text/plain": [
       "\u001b[1m Trainable params: \u001b[0m\u001b[38;5;34m0\u001b[0m (0.00 B)\n"
      ]
     },
     "metadata": {},
     "output_type": "display_data"
    },
    {
     "data": {
      "text/html": [
       "<pre style=\"white-space:pre;overflow-x:auto;line-height:normal;font-family:Menlo,'DejaVu Sans Mono',consolas,'Courier New',monospace\"><span style=\"font-weight: bold\"> Non-trainable params: </span><span style=\"color: #00af00; text-decoration-color: #00af00\">0</span> (0.00 B)\n",
       "</pre>\n"
      ],
      "text/plain": [
       "\u001b[1m Non-trainable params: \u001b[0m\u001b[38;5;34m0\u001b[0m (0.00 B)\n"
      ]
     },
     "metadata": {},
     "output_type": "display_data"
    },
    {
     "name": "stdout",
     "output_type": "stream",
     "text": [
      "None\n",
      "Epoch 1/10\n",
      "\u001b[1m1789/1789\u001b[0m \u001b[32m━━━━━━━━━━━━━━━━━━━━\u001b[0m\u001b[37m\u001b[0m \u001b[1m51s\u001b[0m 27ms/step - accuracy: 0.8213 - loss: 0.3708 - val_accuracy: 0.8927 - val_loss: 0.2594\n",
      "Epoch 2/10\n",
      "\u001b[1m1789/1789\u001b[0m \u001b[32m━━━━━━━━━━━━━━━━━━━━\u001b[0m\u001b[37m\u001b[0m \u001b[1m50s\u001b[0m 28ms/step - accuracy: 0.9207 - loss: 0.1990 - val_accuracy: 0.9042 - val_loss: 0.2403\n",
      "Epoch 3/10\n",
      "\u001b[1m1789/1789\u001b[0m \u001b[32m━━━━━━━━━━━━━━━━━━━━\u001b[0m\u001b[37m\u001b[0m \u001b[1m50s\u001b[0m 28ms/step - accuracy: 0.9396 - loss: 0.1558 - val_accuracy: 0.8998 - val_loss: 0.2432\n",
      "Epoch 4/10\n",
      "\u001b[1m1789/1789\u001b[0m \u001b[32m━━━━━━━━━━━━━━━━━━━━\u001b[0m\u001b[37m\u001b[0m \u001b[1m50s\u001b[0m 28ms/step - accuracy: 0.9513 - loss: 0.1243 - val_accuracy: 0.9073 - val_loss: 0.2667\n",
      "Epoch 5/10\n",
      "\u001b[1m1789/1789\u001b[0m \u001b[32m━━━━━━━━━━━━━━━━━━━━\u001b[0m\u001b[37m\u001b[0m \u001b[1m50s\u001b[0m 28ms/step - accuracy: 0.9650 - loss: 0.0927 - val_accuracy: 0.9040 - val_loss: 0.3298\n",
      "Epoch 6/10\n",
      "\u001b[1m1789/1789\u001b[0m \u001b[32m━━━━━━━━━━━━━━━━━━━━\u001b[0m\u001b[37m\u001b[0m \u001b[1m51s\u001b[0m 28ms/step - accuracy: 0.9700 - loss: 0.0735 - val_accuracy: 0.9062 - val_loss: 0.3063\n",
      "Epoch 7/10\n",
      "\u001b[1m1789/1789\u001b[0m \u001b[32m━━━━━━━━━━━━━━━━━━━━\u001b[0m\u001b[37m\u001b[0m \u001b[1m53s\u001b[0m 29ms/step - accuracy: 0.9778 - loss: 0.0558 - val_accuracy: 0.9025 - val_loss: 0.3328\n",
      "Epoch 8/10\n",
      "\u001b[1m1789/1789\u001b[0m \u001b[32m━━━━━━━━━━━━━━━━━━━━\u001b[0m\u001b[37m\u001b[0m \u001b[1m51s\u001b[0m 29ms/step - accuracy: 0.9842 - loss: 0.0427 - val_accuracy: 0.9006 - val_loss: 0.3786\n",
      "Epoch 9/10\n",
      "\u001b[1m1789/1789\u001b[0m \u001b[32m━━━━━━━━━━━━━━━━━━━━\u001b[0m\u001b[37m\u001b[0m \u001b[1m52s\u001b[0m 29ms/step - accuracy: 0.9881 - loss: 0.0322 - val_accuracy: 0.8952 - val_loss: 0.5767\n",
      "Epoch 10/10\n",
      "\u001b[1m1789/1789\u001b[0m \u001b[32m━━━━━━━━━━━━━━━━━━━━\u001b[0m\u001b[37m\u001b[0m \u001b[1m53s\u001b[0m 30ms/step - accuracy: 0.9910 - loss: 0.0257 - val_accuracy: 0.8984 - val_loss: 0.5436\n",
      "\u001b[1m448/448\u001b[0m \u001b[32m━━━━━━━━━━━━━━━━━━━━\u001b[0m\u001b[37m\u001b[0m \u001b[1m4s\u001b[0m 9ms/step\n",
      "0.8983785294939893\n",
      "[[6217  864]\n",
      " [ 590 6637]]\n"
     ]
    }
   ],
   "source": [
    "# Define and train LSTM models\n",
    "embedding_vector_features = 100\n",
    "\n",
    "# First Model\n",
    "model = Sequential()\n",
    "model.add(Embedding(vocab_size, embedding_vector_features))\n",
    "model.add(LSTM(100))\n",
    "model.add(Dropout(0.2))\n",
    "model.add(Dense(1, activation='sigmoid'))\n",
    "model.compile(loss='binary_crossentropy', optimizer='adam', metrics=['accuracy'])\n",
    "print(model.summary())\n",
    "\n",
    "model.fit(X_train, y_train, validation_data=(X_test, y_test), epochs=10)\n",
    "\n",
    "# Evaluate First Model\n",
    "y_log = model.predict(X_test)\n",
    "y_pred = np.where(y_log > 0.5, 1, 0)\n",
    "acc = accuracy_score(y_test, y_pred)\n",
    "confusion_mat = confusion_matrix(y_test, y_pred)\n",
    "print(acc)\n",
    "print(confusion_mat)"
   ]
  },
  {
   "cell_type": "code",
   "execution_count": null,
   "id": "854d1dbe-811d-416e-a910-18287fa15a81",
   "metadata": {},
   "outputs": [],
   "source": [
    "# Second Model with Multiple LSTM Layers\n",
    "model1 = Sequential()\n",
    "model1.add(Embedding(vocab_size, embedding_vector_features))\n",
    "model1.add(LSTM(100, return_sequences=True))\n",
    "model1.add(Dropout(0.2))\n",
    "model1.add(LSTM(50, return_sequences=True))\n",
    "model1.add(Dropout(0.1))\n",
    "model1.add(LSTM(20))\n",
    "model1.add(Dropout(0.1))\n",
    "model1.add(Dense(1, activation='sigmoid'))\n",
    "model1.compile(loss='binary_crossentropy', optimizer='adam', metrics=['accuracy'])\n",
    "print(model1.summary())\n",
    "\n",
    "model1.fit(X_train, y_train, validation_data=(X_test, y_test), epochs=10)\n",
    "\n",
    "# Evaluate Second Model\n",
    "y_log_1 = model1.predict(X_test)\n",
    "y_pred_1 = np.where(y_log_1 > 0.5, 1, 0)\n",
    "acc_1 = accuracy_score(y_test, y_pred_1)\n",
    "confusion_mat_1 = confusion_matrix(y_test, y_pred_1)\n",
    "print(acc_1)\n",
    "print(confusion_mat_1)"
   ]
  },
  {
   "cell_type": "code",
   "execution_count": null,
   "id": "17cab419-36f1-4750-b96c-4c5020218b83",
   "metadata": {},
   "outputs": [],
   "source": [
    "# Third Model with Bidirectional LSTM\n",
    "embedding_vector_features = 150\n",
    "\n",
    "model2 = Sequential()\n",
    "model2.add(Embedding(vocab_size, embedding_vector_features, input_length=sentence_length))\n",
    "model2.add(Bidirectional(LSTM(200)))\n",
    "model2.add(Dropout(0.2))\n",
    "model2.add(Dense(1, activation='sigmoid'))\n",
    "model2.compile(loss='binary_crossentropy', optimizer='adam', metrics=['accuracy'])\n",
    "print(model2.summary())\n",
    "\n",
    "model2.fit(X_train, y_train, validation_data=(X_test, y_test), epochs=10, batch_size=120)\n",
    "\n",
    "y_log_2 = model2.predict(X_test)\n",
    "y_pred_2 = np.where(y_log_2 > 0.5, 1, 0)\n",
    "acc_2 = accuracy_score(y_test, y_pred_2)\n",
    "confusion_mat_2 = confusion_matrix(y_test, y_pred_2)\n",
    "print(acc_2)\n",
    "print(confusion_mat_2)"
   ]
  }
 ],
 "metadata": {
  "kernelspec": {
   "display_name": "Python 3 (ipykernel)",
   "language": "python",
   "name": "python3"
  },
  "language_info": {
   "codemirror_mode": {
    "name": "ipython",
    "version": 3
   },
   "file_extension": ".py",
   "mimetype": "text/x-python",
   "name": "python",
   "nbconvert_exporter": "python",
   "pygments_lexer": "ipython3",
   "version": "3.10.14"
  }
 },
 "nbformat": 4,
 "nbformat_minor": 5
}
